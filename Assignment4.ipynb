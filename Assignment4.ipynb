{
 "cells": [
  {
   "cell_type": "code",
   "execution_count": 1,
   "id": "a9e1564c",
   "metadata": {},
   "outputs": [
    {
     "name": "stdout",
     "output_type": "stream",
     "text": [
      "Select operation.\n",
      "1.Add\n",
      "2.Subtract\n",
      "3.Multiply\n",
      "4.Divide\n",
      "5.Power\n",
      "Enter choice(1/2/3/4/5): 2\n",
      "Enter first number: 2\n",
      "Enter second number: 4\n",
      "2.0 - 4.0 = -2.0\n",
      "Let's do next calculation? (y/n): n\n"
     ]
    }
   ],
   "source": [
    "#Q1 solution\n",
    "# Program make a simple calculator\n",
    "\n",
    "# addition function\n",
    "def add(x, y):\n",
    "    return x + y\n",
    "\n",
    "# subtract function\n",
    "def subtract(x, y):\n",
    "    return x - y\n",
    "\n",
    "# multily function \n",
    "def multiply(x, y):\n",
    "    return x * y\n",
    "\n",
    "# divide function\n",
    "def divide(x, y):\n",
    "    return x / y\n",
    "\n",
    "#power function\n",
    "def power(x,y):\n",
    "    ans = 1\n",
    "    while y > 0:\n",
    "        ans = ans * x;\n",
    "        y = y - 1;   \n",
    "    return ans\n",
    "\n",
    "print(\"Select operation.\")\n",
    "print(\"1.Add\")\n",
    "print(\"2.Subtract\")\n",
    "print(\"3.Multiply\")\n",
    "print(\"4.Divide\")\n",
    "print(\"5.Power\")\n",
    "\n",
    "while True:\n",
    "    choice = input(\"Enter choice(1/2/3/4/5): \")\n",
    "\n",
    "    if choice in ('1', '2', '3', '4','5'):\n",
    "\n",
    "        if choice == '1':\n",
    "            num1 = float(input(\"Enter first number: \"))\n",
    "            num2 = float(input(\"Enter second number: \"))\n",
    "            print(num1, \"+\", num2, \"=\", add(num1, num2))\n",
    "\n",
    "        elif choice == '2':\n",
    "            num1 = float(input(\"Enter first number: \"))\n",
    "            num2 = float(input(\"Enter second number: \"))\n",
    "            print(num1, \"-\", num2, \"=\", subtract(num1, num2))\n",
    "\n",
    "        elif choice == '3':\n",
    "            num1 = float(input(\"Enter first number: \"))\n",
    "            num2 = float(input(\"Enter second number: \"))\n",
    "            print(num1, \"*\", num2, \"=\", multiply(num1, num2))\n",
    "\n",
    "        elif choice == '4':\n",
    "            num1 = float(input(\"Enter first number: \"))\n",
    "            num2 = float(input(\"Enter second number: \"))\n",
    "            if num2 == 0:\n",
    "                print(\"Error not divisible by zero\")\n",
    "            else:\n",
    "                print(num1, \"/\", num2, \"=\", divide(num1, num2))\n",
    "        elif choice == '5':\n",
    "            baseval = int(input(\"Enter base: \"))\n",
    "            pwr = int(input(\"Enter power: \"))\n",
    "            print(baseval, \"^\", pwr, \"=\", power(baseval, pwr))\n",
    "        \n",
    "        # check if user wants another calculation\n",
    "        # break the while loop if answer is no\n",
    "        cal = input(\"Let's do next calculation? (y/n): \")\n",
    "        if cal == \"n\":\n",
    "          break\n",
    "    \n",
    "    else:\n",
    "        print(\"Invalid Input\")\n"
   ]
  },
  {
   "cell_type": "code",
   "execution_count": 2,
   "id": "e9171ede",
   "metadata": {},
   "outputs": [
    {
     "name": "stdout",
     "output_type": "stream",
     "text": [
      "4\n"
     ]
    }
   ],
   "source": [
    "#Q2 solution\n",
    "a = [\"b\", \"c\", 4, \"h\"] \n",
    "for x in a: \n",
    "    if type(x) == int: \n",
    "        print(x)"
   ]
  },
  {
   "cell_type": "code",
   "execution_count": 3,
   "id": "1ea3f66e",
   "metadata": {},
   "outputs": [
    {
     "name": "stdout",
     "output_type": "stream",
     "text": [
      "{1: 'a', 2: 'b', 3: 'c', 4: 'g', 5: 'h'}\n"
     ]
    }
   ],
   "source": [
    "#Q3 solution\n",
    "a = {1:'a',2:'b',3:'c',4:'g'}\n",
    "def addkey(a,key,value):\n",
    "    a[key] = value;\n",
    "    return a;\n",
    "\n",
    "print(addkey(a,5,'h'));"
   ]
  },
  {
   "cell_type": "code",
   "execution_count": 4,
   "id": "a8d9db7c",
   "metadata": {},
   "outputs": [
    {
     "name": "stdout",
     "output_type": "stream",
     "text": [
      "16\n"
     ]
    }
   ],
   "source": [
    "#Q4  solution \n",
    "x = {\n",
    "  \"a\": 8,\n",
    "  \"b\": \"F\",\n",
    "  \"c\": \"M\",\n",
    "  \"d\": 1,\n",
    "  \"e\": 7,\n",
    "    \n",
    "}\n",
    "totalsum = 0;\n",
    "for i in x.values():\n",
    "    if type(i) == int: \n",
    "        totalsum = totalsum + i;\n",
    "print(totalsum);"
   ]
  },
  {
   "cell_type": "code",
   "execution_count": 5,
   "id": "67cf2456",
   "metadata": {},
   "outputs": [
    {
     "name": "stdout",
     "output_type": "stream",
     "text": [
      "[2, 3, 4, 5]\n"
     ]
    }
   ],
   "source": [
    "#Q5 solution\n",
    "l=[1,2,3,4,5,2,3,4,7,9,5]\n",
    "l1=[]\n",
    "l2=[]\n",
    "for i in l:\n",
    "    if i not in l1:\n",
    "        l1.append(i)\n",
    "    else:\n",
    "       l2.append(i)\n",
    "print(l2)"
   ]
  },
  {
   "cell_type": "code",
   "execution_count": 6,
   "id": "f8a6c3ea",
   "metadata": {},
   "outputs": [
    {
     "name": "stdout",
     "output_type": "stream",
     "text": [
      "2 already exists\n"
     ]
    }
   ],
   "source": [
    "#Q6 solution\n",
    "a = {1:'a',2:'b',3:'c',4:'g'}\n",
    "def findkey(a, key):\n",
    "    for i in a.keys():\n",
    "        if i == key: \n",
    "            print(key, \"already exists\");\n",
    "findkey(a,2);"
   ]
  },
  {
   "cell_type": "code",
   "execution_count": null,
   "id": "9de028f9",
   "metadata": {},
   "outputs": [],
   "source": []
  }
 ],
 "metadata": {
  "kernelspec": {
   "display_name": "Python 3",
   "language": "python",
   "name": "python3"
  },
  "language_info": {
   "codemirror_mode": {
    "name": "ipython",
    "version": 3
   },
   "file_extension": ".py",
   "mimetype": "text/x-python",
   "name": "python",
   "nbconvert_exporter": "python",
   "pygments_lexer": "ipython3",
   "version": "3.8.8"
  }
 },
 "nbformat": 4,
 "nbformat_minor": 5
}
